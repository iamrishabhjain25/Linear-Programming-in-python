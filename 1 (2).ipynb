{
  "nbformat": 4,
  "nbformat_minor": 0,
  "metadata": {
    "colab": {
      "name": "20i190008_IE507_Lab2_Ex2.ipynb",
      "provenance": [],
      "collapsed_sections": [
        "O2THiBtw_VWn",
        "OjzPi1JQAHxQ"
      ]
    },
    "kernelspec": {
      "name": "python3",
      "display_name": "Python 3"
    }
  },
  "cells": [
    {
      "cell_type": "markdown",
      "metadata": {
        "id": "O2THiBtw_VWn",
        "colab_type": "text"
      },
      "source": [
        "# **Installing packages ans importing libraries**"
      ]
    },
    {
      "cell_type": "code",
      "metadata": {
        "id": "P-Gtr9UN7JxB",
        "colab_type": "code",
        "colab": {
          "base_uri": "https://localhost:8080/"
        },
        "outputId": "c427d1aa-8349-4b97-a301-99e36d444877"
      },
      "source": [
        "!pip install -q pyomo\n",
        "from pyomo.environ import *\n",
        "import numpy as np\n",
        "\n",
        "!apt-get install -y -qq glpk-utils\n"
      ],
      "execution_count": null,
      "outputs": [
        {
          "output_type": "stream",
          "text": [
            "\u001b[K     |████████████████████████████████| 9.0MB 2.8MB/s \n",
            "\u001b[K     |████████████████████████████████| 51kB 6.7MB/s \n",
            "\u001b[K     |████████████████████████████████| 256kB 48.3MB/s \n",
            "\u001b[K     |████████████████████████████████| 163kB 50.5MB/s \n",
            "\u001b[?25hSelecting previously unselected package libsuitesparseconfig5:amd64.\n",
            "(Reading database ... 144556 files and directories currently installed.)\n",
            "Preparing to unpack .../libsuitesparseconfig5_1%3a5.1.2-2_amd64.deb ...\n",
            "Unpacking libsuitesparseconfig5:amd64 (1:5.1.2-2) ...\n",
            "Selecting previously unselected package libamd2:amd64.\n",
            "Preparing to unpack .../libamd2_1%3a5.1.2-2_amd64.deb ...\n",
            "Unpacking libamd2:amd64 (1:5.1.2-2) ...\n",
            "Selecting previously unselected package libcolamd2:amd64.\n",
            "Preparing to unpack .../libcolamd2_1%3a5.1.2-2_amd64.deb ...\n",
            "Unpacking libcolamd2:amd64 (1:5.1.2-2) ...\n",
            "Selecting previously unselected package libglpk40:amd64.\n",
            "Preparing to unpack .../libglpk40_4.65-1_amd64.deb ...\n",
            "Unpacking libglpk40:amd64 (4.65-1) ...\n",
            "Selecting previously unselected package glpk-utils.\n",
            "Preparing to unpack .../glpk-utils_4.65-1_amd64.deb ...\n",
            "Unpacking glpk-utils (4.65-1) ...\n",
            "Setting up libsuitesparseconfig5:amd64 (1:5.1.2-2) ...\n",
            "Setting up libcolamd2:amd64 (1:5.1.2-2) ...\n",
            "Setting up libamd2:amd64 (1:5.1.2-2) ...\n",
            "Setting up libglpk40:amd64 (4.65-1) ...\n",
            "Setting up glpk-utils (4.65-1) ...\n",
            "Processing triggers for libc-bin (2.27-3ubuntu1) ...\n",
            "/sbin/ldconfig.real: /usr/local/lib/python3.6/dist-packages/ideep4py/lib/libmkldnn.so.0 is not a symbolic link\n",
            "\n",
            "Processing triggers for man-db (2.8.3-2ubuntu0.1) ...\n"
          ],
          "name": "stdout"
        }
      ]
    },
    {
      "cell_type": "markdown",
      "metadata": {
        "id": "OjzPi1JQAHxQ",
        "colab_type": "text"
      },
      "source": [
        "# Exercise 2"
      ]
    },
    {
      "cell_type": "markdown",
      "metadata": {
        "id": "0P7Bfvt6AO72",
        "colab_type": "text"
      },
      "source": [
        "\n",
        "\n",
        "**WE are given the general form of the problem with the following values of the variables :**\n",
        "\n",
        "c = [8.6, −20.35, 61.5, 39.05, −0.15, 40.5, −0.05, −30.02, 40.65, 5.125];\n",
        "\n",
        "A = [  [ 0 ,1, −2, 0, 1, −2, 0, 1, 1, −1]   ,\n",
        "  [−1, 1, −3, 2.5, 0, 1.4, 0, −2, 1]   ,\n",
        "  [−0.45, 4.78, −2, −3.22, −1.3, 1, −1, 0, 0, 0.25]   ,\n",
        "  [1, 1, 0, 0, 1, 1, 0, 1, 1, 0]            ]\n",
        "\n",
        "\n",
        "b = [55.4, 67.9, 21.43, 12.7]\n",
        "\n",
        "l = [−∞, −∞, 0, 0, −57, 0, −∞, −3, 4, 1],\n",
        "\n",
        "u = [4, ∞, +∞, 2, 10, 45, 13, 20, +∞, +∞]\n",
        "\n",
        "\n"
      ]
    },
    {
      "cell_type": "code",
      "metadata": {
        "id": "wxQ1qmIrAL7M",
        "colab_type": "code",
        "colab": {
          "base_uri": "https://localhost:8080/",
          "height": 629
        },
        "outputId": "c5e33cfb-2d36-4008-d9cb-5ea1fdcc0c31"
      },
      "source": [
        "model = ConcreteModel()\n",
        "\n",
        "\n",
        "# Creating variable N for 'number of variables in the problem' and M for 'Number of constraints'\n",
        "\n",
        "\n",
        "N = 10\n",
        "M = 4\n",
        "\n",
        "\n",
        "coeff_objective = np.array([8.6, -20.35, 61.5, 39.05, -0.15, 40.5, -0.05, -30.02, 40.65, 5.125])\n",
        "\n",
        "\n",
        " \n",
        "\n",
        "# Coefficients Matrix of the constraints\n",
        "\n",
        "coeff_matrix_for_constraints_A = np.array([ [0, 1, -2, 0, 1, -2, 0, 1, 1, -1],\n",
        "                                            [-1, 1, -3, 2.5, 0, 1.4, 0, -2, 1, -1.5],\n",
        "                                            [-0.45, 4.78, -2, -3.22, -1.3, 1, -1, 0, 0, 0.25],\n",
        "                                            [1, 1, 0, 0, 1, 1, 0, 1, 1, 0]  ])\n",
        "\n",
        "# RHS value of the constraints\n",
        "\n",
        "rhs_constraints = np.array([55.4, 67.9, 21.43, 12.7])\n",
        "\n",
        "# Lower and upper bounds of the variables\n",
        "\n",
        "lower_bounds = [-np.inf, -np.inf, 0, 0, -57, 0, -np.inf, -3, 4, 1]\n",
        "upper_bounds = [4, np.inf, np.inf, 2, 10, 45, 13, 20, np.inf, np.inf]\n",
        "\n",
        "# Creating indexes for columns(Variables) and rows(Constraints) \n",
        "\n",
        "col_index = np.arange(N)\n",
        "row_index = np.arange(M)\n",
        "\n",
        "\n",
        "# Creating Model variables and constraints\n",
        "model.x = Var(col_index)\n",
        "model.constraints = ConstraintList()\n",
        "\n",
        "\n",
        "# Adding Model objective and constraints to constraits list\n",
        "\n",
        "model.objective = Objective( expr = sum(model.x[i]*coeff_objective[i] for i in col_index) ,  sense=minimize )\n",
        "\n",
        "for i in row_index:\n",
        "  model.constraints.add(sum(model.x[j]*coeff_matrix_for_constraints_A[i,j] for j in col_index) <= rhs_constraints[i])\n",
        "\n",
        "\n",
        "\n",
        "# Adding upper and lower bounds\n",
        "\n",
        "for i in col_index:\n",
        "  model.x[i].setlb(lower_bounds[i])\n",
        "  model.x[i].setub(upper_bounds[i])\n",
        "\n",
        "# Printing Model details\n",
        "\n",
        "model.pprint()\n",
        "\n"
      ],
      "execution_count": null,
      "outputs": [
        {
          "output_type": "stream",
          "text": [
            "2 Set Declarations\n",
            "    constraints_index : Size=1, Index=None, Ordered=Insertion\n",
            "        Key  : Dimen : Domain : Size : Members\n",
            "        None :     1 :    Any :    4 : {1, 2, 3, 4}\n",
            "    x_index : Size=1, Index=None, Ordered=False\n",
            "        Key  : Dimen : Domain : Size : Members\n",
            "        None :     1 :    Any :   10 : {0, 1, 2, 3, 4, 5, 6, 7, 8, 9}\n",
            "\n",
            "1 Var Declarations\n",
            "    x : Size=10, Index=x_index\n",
            "        Key : Lower : Value : Upper : Fixed : Stale : Domain\n",
            "          0 :  -inf :  None :     4 : False :  True :  Reals\n",
            "          1 :  -inf :  None :   inf : False :  True :  Reals\n",
            "          2 :     0 :  None :   inf : False :  True :  Reals\n",
            "          3 :     0 :  None :     2 : False :  True :  Reals\n",
            "          4 :   -57 :  None :    10 : False :  True :  Reals\n",
            "          5 :     0 :  None :    45 : False :  True :  Reals\n",
            "          6 :  -inf :  None :    13 : False :  True :  Reals\n",
            "          7 :    -3 :  None :    20 : False :  True :  Reals\n",
            "          8 :     4 :  None :   inf : False :  True :  Reals\n",
            "          9 :     1 :  None :   inf : False :  True :  Reals\n",
            "\n",
            "1 Objective Declarations\n",
            "    objective : Size=1, Index=None, Active=True\n",
            "        Key  : Active : Sense    : Expression\n",
            "        None :   True : minimize : 8.6*x[0] - 20.35*x[1] + 61.5*x[2] + 39.05*x[3] - 0.15*x[4] + 40.5*x[5] - 0.05*x[6] - 30.02*x[7] + 40.65*x[8] + 5.125*x[9]\n",
            "\n",
            "1 Constraint Declarations\n",
            "    constraints : Size=4, Index=constraints_index, Active=True\n",
            "        Key : Lower : Body                                                                               : Upper : Active\n",
            "          1 :  -Inf :                             x[1] - 2.0*x[2] + x[4] - 2.0*x[5] + x[7] + x[8] - x[9] :  55.4 :   True\n",
            "          2 :  -Inf :        - x[0] + x[1] - 3.0*x[2] + 2.5*x[3] + 1.4*x[5] - 2.0*x[7] + x[8] - 1.5*x[9] :  67.9 :   True\n",
            "          3 :  -Inf : -0.45*x[0] + 4.78*x[1] - 2.0*x[2] - 3.22*x[3] - 1.3*x[4] + x[5] - x[6] + 0.25*x[9] : 21.43 :   True\n",
            "          4 :  -Inf :                                            x[0] + x[1] + x[4] + x[5] + x[7] + x[8] :  12.7 :   True\n",
            "\n",
            "5 Declarations: x_index x constraints_index constraints objective\n"
          ],
          "name": "stdout"
        }
      ]
    },
    {
      "cell_type": "code",
      "metadata": {
        "id": "RsJ4ExkFANWR",
        "colab_type": "code",
        "colab": {
          "base_uri": "https://localhost:8080/",
          "height": 476
        },
        "outputId": "135222e3-1446-494e-fbbe-0f20497087c6"
      },
      "source": [
        "# Solving the model with the solver\n",
        "\n",
        "SolverFactory('glpk', executable='/usr/bin/glpsol').solve(model).write()"
      ],
      "execution_count": null,
      "outputs": [
        {
          "output_type": "stream",
          "text": [
            "# ==========================================================\n",
            "# = Solver Results                                         =\n",
            "# ==========================================================\n",
            "# ----------------------------------------------------------\n",
            "#   Problem Information\n",
            "# ----------------------------------------------------------\n",
            "Problem: \n",
            "- Name: unknown\n",
            "  Lower bound: -inf\n",
            "  Upper bound: inf\n",
            "  Number of objectives: 1\n",
            "  Number of constraints: 5\n",
            "  Number of variables: 11\n",
            "  Number of nonzeros: 30\n",
            "  Sense: minimize\n",
            "# ----------------------------------------------------------\n",
            "#   Solver Information\n",
            "# ----------------------------------------------------------\n",
            "Solver: \n",
            "- Status: ok\n",
            "  Termination condition: other\n",
            "  Statistics: \n",
            "    Branch and bound: \n",
            "      Number of bounded subproblems: 0\n",
            "      Number of created subproblems: 0\n",
            "  Error rc: 0\n",
            "  Time: 0.018064260482788086\n"
          ],
          "name": "stdout"
        }
      ]
    },
    {
      "cell_type": "markdown",
      "metadata": {
        "id": "fG6KtwXkKJCh",
        "colab_type": "text"
      },
      "source": [
        "***EXERCISE 2 Reporting ***\n",
        "\n",
        "Reporting the value of the objective function"
      ]
    },
    {
      "cell_type": "code",
      "metadata": {
        "id": "uWlCHBejANe3",
        "colab_type": "code",
        "colab": {
          "base_uri": "https://localhost:8080/",
          "height": 51
        },
        "outputId": "fa91c59c-eab1-4d06-fe80-76c91308239b"
      },
      "source": [
        "# Results\n",
        "\n",
        "print('The optimal solution is not bounded so cannot print the value.')\n",
        "\n",
        "\n",
        "print('Since the soution is not bounded we cannot tell whether the constraints ase active or not')"
      ],
      "execution_count": null,
      "outputs": [
        {
          "output_type": "stream",
          "text": [
            "The optimal solution is not bounded so cannot print the value.\n",
            "Since the soution is not bounded we cannot tell whether the constraints ase active or not\n"
          ],
          "name": "stdout"
        }
      ]
    },
    {
      "cell_type": "code",
      "metadata": {
        "id": "2KX9acDjANgz",
        "colab_type": "code",
        "colab": {}
      },
      "source": [
        ""
      ],
      "execution_count": null,
      "outputs": []
    },
    {
      "cell_type": "code",
      "metadata": {
        "id": "CWkpb9n1fKGe",
        "colab_type": "code",
        "colab": {}
      },
      "source": [
        ""
      ],
      "execution_count": null,
      "outputs": []
    }
  ]
}