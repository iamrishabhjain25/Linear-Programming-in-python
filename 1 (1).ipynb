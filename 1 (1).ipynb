{
  "nbformat": 4,
  "nbformat_minor": 0,
  "metadata": {
    "colab": {
      "name": "20i190008_IE507_Lab2_Ex1.ipynb",
      "provenance": [],
      "collapsed_sections": [
        "O2THiBtw_VWn",
        "OjzPi1JQAHxQ"
      ]
    },
    "kernelspec": {
      "name": "python3",
      "display_name": "Python 3"
    }
  },
  "cells": [
    {
      "cell_type": "markdown",
      "metadata": {
        "id": "O2THiBtw_VWn",
        "colab_type": "text"
      },
      "source": [
        "# **Installing packages ans importing libraries**"
      ]
    },
    {
      "cell_type": "code",
      "metadata": {
        "id": "P-Gtr9UN7JxB",
        "colab_type": "code",
        "colab": {
          "base_uri": "https://localhost:8080/"
        },
        "outputId": "79056267-6e17-4b3f-8243-a2dcdc07a6c7"
      },
      "source": [
        "!pip install -q pyomo\n",
        "from pyomo.environ import *\n",
        "import numpy as np\n",
        "\n",
        "!apt-get install -y -qq glpk-utils\n"
      ],
      "execution_count": null,
      "outputs": [
        {
          "output_type": "stream",
          "text": [
            "\u001b[K     |████████████████████████████████| 9.0MB 2.8MB/s \n",
            "\u001b[K     |████████████████████████████████| 51kB 6.3MB/s \n",
            "\u001b[K     |████████████████████████████████| 256kB 45.9MB/s \n",
            "\u001b[K     |████████████████████████████████| 163kB 45.3MB/s \n",
            "\u001b[?25hSelecting previously unselected package libsuitesparseconfig5:amd64.\n",
            "(Reading database ... 144556 files and directories currently installed.)\n",
            "Preparing to unpack .../libsuitesparseconfig5_1%3a5.1.2-2_amd64.deb ...\n",
            "Unpacking libsuitesparseconfig5:amd64 (1:5.1.2-2) ...\n",
            "Selecting previously unselected package libamd2:amd64.\n",
            "Preparing to unpack .../libamd2_1%3a5.1.2-2_amd64.deb ...\n",
            "Unpacking libamd2:amd64 (1:5.1.2-2) ...\n",
            "Selecting previously unselected package libcolamd2:amd64.\n",
            "Preparing to unpack .../libcolamd2_1%3a5.1.2-2_amd64.deb ...\n",
            "Unpacking libcolamd2:amd64 (1:5.1.2-2) ...\n",
            "Selecting previously unselected package libglpk40:amd64.\n",
            "Preparing to unpack .../libglpk40_4.65-1_amd64.deb ...\n",
            "Unpacking libglpk40:amd64 (4.65-1) ...\n",
            "Selecting previously unselected package glpk-utils.\n",
            "Preparing to unpack .../glpk-utils_4.65-1_amd64.deb ...\n",
            "Unpacking glpk-utils (4.65-1) ...\n",
            "Setting up libsuitesparseconfig5:amd64 (1:5.1.2-2) ...\n",
            "Setting up libcolamd2:amd64 (1:5.1.2-2) ...\n",
            "Setting up libamd2:amd64 (1:5.1.2-2) ...\n",
            "Setting up libglpk40:amd64 (4.65-1) ...\n",
            "Setting up glpk-utils (4.65-1) ...\n",
            "Processing triggers for libc-bin (2.27-3ubuntu1) ...\n",
            "/sbin/ldconfig.real: /usr/local/lib/python3.6/dist-packages/ideep4py/lib/libmkldnn.so.0 is not a symbolic link\n",
            "\n",
            "Processing triggers for man-db (2.8.3-2ubuntu0.1) ...\n"
          ],
          "name": "stdout"
        }
      ]
    },
    {
      "cell_type": "markdown",
      "metadata": {
        "id": "OjzPi1JQAHxQ",
        "colab_type": "text"
      },
      "source": [
        "# Exercise 1"
      ]
    },
    {
      "cell_type": "markdown",
      "metadata": {
        "id": "0P7Bfvt6AO72",
        "colab_type": "text"
      },
      "source": [
        "**WE are given the general form of the problem with the following values of the variables :**\n",
        "\n",
        "b1 = 151.2,\n",
        "\n",
        "b2 = 44.6,\n",
        "\n",
        "c = [−10.1, 20.15, 60.5, 80.05, 0.15, 40.5, −0.05, −30.02, 40.65, 0.125];\n",
        "\n",
        "w = [0, 1.6, −2.02, 0, 1.01, −2.005, 0, 1.39, 1, −1.214];\n",
        "\n",
        "l = [−∞, 1, 0, 0, 7, 0, −∞, −∞, 1, 1],\n",
        "\n",
        "u = [4, 3, +∞, 2, 10, +∞, 13, 20, +∞, 21]"
      ]
    },
    {
      "cell_type": "code",
      "metadata": {
        "id": "wxQ1qmIrAL7M",
        "colab_type": "code",
        "colab": {
          "base_uri": "https://localhost:8080/",
          "height": 595
        },
        "outputId": "5abaff2c-df0e-4f9b-8f0e-f4da093e17c1"
      },
      "source": [
        "model = ConcreteModel()\n",
        "\n",
        "N = 10\n",
        "\n",
        "coeff_objective = np.array([-10.1, 20.15, 60.5, 80.05, 0.15, 40.5, -0.05, -30.02, 40.65, 0.125])\n",
        "\n",
        "\n",
        "# Creating a list of coefficients for the first constraint.\n",
        "list_coeff_contraint1 =[]\n",
        "for i in range(10):\n",
        "  list_coeff_contraint1.append(1)  \n",
        "\n",
        "# Coefficients of the constraints\n",
        "\n",
        "coeff_constraint1 = np.array(list_coeff_contraint1)\n",
        "coeff_constraint2 = np.array([0, 1.6, -2.02, 0, 1.01, -2.005, 0, 1.39, 1, -1.214])\n",
        "\n",
        "# RHS value of the constraints\n",
        "\n",
        "rhs_constraint1 = 151.2\n",
        "rhs_constraint2 = 44.6\n",
        "\n",
        "# Lower and upper bounds of the variables\n",
        "\n",
        "lower_bounds = [-np.inf, 1, 0, 0, 7, 0, -np.inf, -np.inf, 1, 1]\n",
        "upper_bounds = [4, 3, np.inf, 2, 10, np.inf, 13, 20, np.inf, 21]\n",
        "\n",
        "col_index = np.arange(N)\n",
        "\n",
        "\n",
        "# Creating Model variables and constraints\n",
        "model.x = Var(col_index)\n",
        "model.constraints = ConstraintList()\n",
        "\n",
        "\n",
        "# Adding Model objective and constraints to constraits list\n",
        "\n",
        "model.objective = Objective( expr = sum(model.x[i]*coeff_objective[i] for i in col_index) ,  sense=minimize )\n",
        "model.constraints.add(sum(model.x[i]*coeff_constraint1[i] for i in col_index) <= rhs_constraint1)\n",
        "model.constraints.add(sum(model.x[i]*coeff_constraint2[i] for i in col_index) == rhs_constraint2)\n",
        "\n",
        "# Adding upper and lower bounds\n",
        "\n",
        "for i in col_index:\n",
        "  model.x[i].setlb(lower_bounds[i])\n",
        "  model.x[i].setub(upper_bounds[i])\n",
        "\n",
        "# Printing Model details\n",
        "\n",
        "model.pprint()\n",
        "\n"
      ],
      "execution_count": null,
      "outputs": [
        {
          "output_type": "stream",
          "text": [
            "2 Set Declarations\n",
            "    constraints_index : Size=1, Index=None, Ordered=Insertion\n",
            "        Key  : Dimen : Domain : Size : Members\n",
            "        None :     1 :    Any :    2 : {1, 2}\n",
            "    x_index : Size=1, Index=None, Ordered=False\n",
            "        Key  : Dimen : Domain : Size : Members\n",
            "        None :     1 :    Any :   10 : {0, 1, 2, 3, 4, 5, 6, 7, 8, 9}\n",
            "\n",
            "1 Var Declarations\n",
            "    x : Size=10, Index=x_index\n",
            "        Key : Lower : Value : Upper : Fixed : Stale : Domain\n",
            "          0 :  -inf :  None :     4 : False :  True :  Reals\n",
            "          1 :     1 :  None :     3 : False :  True :  Reals\n",
            "          2 :     0 :  None :   inf : False :  True :  Reals\n",
            "          3 :     0 :  None :     2 : False :  True :  Reals\n",
            "          4 :     7 :  None :    10 : False :  True :  Reals\n",
            "          5 :     0 :  None :   inf : False :  True :  Reals\n",
            "          6 :  -inf :  None :    13 : False :  True :  Reals\n",
            "          7 :  -inf :  None :    20 : False :  True :  Reals\n",
            "          8 :     1 :  None :   inf : False :  True :  Reals\n",
            "          9 :     1 :  None :    21 : False :  True :  Reals\n",
            "\n",
            "1 Objective Declarations\n",
            "    objective : Size=1, Index=None, Active=True\n",
            "        Key  : Active : Sense    : Expression\n",
            "        None :   True : minimize : -10.1*x[0] + 20.15*x[1] + 60.5*x[2] + 80.05*x[3] + 0.15*x[4] + 40.5*x[5] - 0.05*x[6] - 30.02*x[7] + 40.65*x[8] + 0.125*x[9]\n",
            "\n",
            "1 Constraint Declarations\n",
            "    constraints : Size=2, Index=constraints_index, Active=True\n",
            "        Key : Lower : Body                                                                          : Upper : Active\n",
            "          1 :  -Inf :           x[0] + x[1] + x[2] + x[3] + x[4] + x[5] + x[6] + x[7] + x[8] + x[9] : 151.2 :   True\n",
            "          2 :  44.6 : 1.6*x[1] - 2.02*x[2] + 1.01*x[4] - 2.005*x[5] + 1.39*x[7] + x[8] - 1.214*x[9] :  44.6 :   True\n",
            "\n",
            "5 Declarations: x_index x constraints_index constraints objective\n"
          ],
          "name": "stdout"
        }
      ]
    },
    {
      "cell_type": "code",
      "metadata": {
        "id": "RsJ4ExkFANWR",
        "colab_type": "code",
        "colab": {
          "base_uri": "https://localhost:8080/",
          "height": 578
        },
        "outputId": "44e6d34e-6a6d-484d-810e-04ba258f9ab6"
      },
      "source": [
        "# Solving the model with the solver\n",
        "\n",
        "SolverFactory('glpk', executable='/usr/bin/glpsol').solve(model).write()"
      ],
      "execution_count": null,
      "outputs": [
        {
          "output_type": "stream",
          "text": [
            "# ==========================================================\n",
            "# = Solver Results                                         =\n",
            "# ==========================================================\n",
            "# ----------------------------------------------------------\n",
            "#   Problem Information\n",
            "# ----------------------------------------------------------\n",
            "Problem: \n",
            "- Name: unknown\n",
            "  Lower bound: -452.7909\n",
            "  Upper bound: -452.7909\n",
            "  Number of objectives: 1\n",
            "  Number of constraints: 3\n",
            "  Number of variables: 11\n",
            "  Number of nonzeros: 18\n",
            "  Sense: minimize\n",
            "# ----------------------------------------------------------\n",
            "#   Solver Information\n",
            "# ----------------------------------------------------------\n",
            "Solver: \n",
            "- Status: ok\n",
            "  Termination condition: optimal\n",
            "  Statistics: \n",
            "    Branch and bound: \n",
            "      Number of bounded subproblems: 0\n",
            "      Number of created subproblems: 0\n",
            "  Error rc: 0\n",
            "  Time: 0.010675430297851562\n",
            "# ----------------------------------------------------------\n",
            "#   Solution Information\n",
            "# ----------------------------------------------------------\n",
            "Solution: \n",
            "- number of solutions: 0\n",
            "  number of solutions displayed: 0\n"
          ],
          "name": "stdout"
        }
      ]
    },
    {
      "cell_type": "markdown",
      "metadata": {
        "id": "fG6KtwXkKJCh",
        "colab_type": "text"
      },
      "source": [
        "***EXERCISE 1 PART 2 ***\n",
        "\n",
        "Reporting the value of the objective function"
      ]
    },
    {
      "cell_type": "code",
      "metadata": {
        "id": "uWlCHBejANe3",
        "colab_type": "code",
        "colab": {
          "base_uri": "https://localhost:8080/",
          "height": 340
        },
        "outputId": "a411bf69-a184-4276-f0fc-9074b5c9ceee"
      },
      "source": [
        "# Results\n",
        "\n",
        "print('The value of the objective function is {}'.format(model.objective()))\n",
        "\n",
        "\n",
        "\n",
        "\n",
        "\n",
        "print('\\nDecision Variables')\n",
        "for i in col_index:\n",
        "  print('x[',i,'] = ', model.x[i].value)\n",
        "  \n",
        "\n",
        "print('\\nConstraints')\n",
        "model.constraints.display()"
      ],
      "execution_count": null,
      "outputs": [
        {
          "output_type": "stream",
          "text": [
            "The value of the objective function is -452.7909\n",
            "\n",
            "Decision Variables\n",
            "x[ 0 ] =  4.0\n",
            "x[ 1 ] =  3.0\n",
            "x[ 2 ] =  0.0\n",
            "x[ 3 ] =  0.0\n",
            "x[ 4 ] =  10.0\n",
            "x[ 5 ] =  0.0\n",
            "x[ 6 ] =  13.0\n",
            "x[ 7 ] =  20.0\n",
            "x[ 8 ] =  3.114\n",
            "x[ 9 ] =  1.0\n",
            "\n",
            "Constraints\n",
            "constraints : Size=2\n",
            "    Key : Lower : Body               : Upper\n",
            "      1 :  None :             54.114 : 151.2\n",
            "      2 :  44.6 : 44.599999999999994 :  44.6\n"
          ],
          "name": "stdout"
        }
      ]
    },
    {
      "cell_type": "code",
      "metadata": {
        "id": "2KX9acDjANgz",
        "colab_type": "code",
        "colab": {}
      },
      "source": [
        ""
      ],
      "execution_count": null,
      "outputs": []
    }
  ]
}